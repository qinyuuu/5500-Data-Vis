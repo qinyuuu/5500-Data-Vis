{
 "cells": [
  {
   "cell_type": "markdown",
   "metadata": {},
   "source": [
    "# Real-world Data Science: Applications of Visualization\n",
    "## Qinyu Chen"
   ]
  },
  {
   "cell_type": "code",
   "execution_count": 2,
   "metadata": {},
   "outputs": [],
   "source": [
    "# setting\n",
    "\n",
    "import pandas as pd\n",
    "import numpy as np\n",
    "\n",
    "import warnings\n",
    "warnings.filterwarnings('ignore')\n",
    "\n",
    "import matplotlib.pyplot as plt\n",
    "import plotly\n",
    "plotly.tools.set_credentials_file(username='crowwwww56', api_key='YNELI27nGE9bz8ZSFaxZ')\n",
    "import plotly.plotly as py\n",
    "import plotly.graph_objs as go\n",
    "\n",
    "import nltk\n",
    "\n",
    "from sklearn.model_selection import train_test_split\n",
    "from sklearn.preprocessing import StandardScaler\n",
    "from sklearn.feature_extraction.text import TfidfVectorizer\n",
    "from sklearn.decomposition import LatentDirichletAllocation\n",
    "from sklearn.linear_model import LinearRegression\n",
    "from sklearn.linear_model import Ridge\n",
    "from sklearn.ensemble import GradientBoostingClassifier"
   ]
  },
  {
   "cell_type": "markdown",
   "metadata": {},
   "source": [
    "## 1 Exploratory Data Analysis"
   ]
  },
  {
   "cell_type": "code",
   "execution_count": 3,
   "metadata": {},
   "outputs": [],
   "source": [
    "data = pd.read_csv(\"wine-reviews/winemag-data-130k-v2.csv\")"
   ]
  },
  {
   "cell_type": "code",
   "execution_count": 220,
   "metadata": {},
   "outputs": [
    {
     "data": {
      "text/html": [
       "<div>\n",
       "<style scoped>\n",
       "    .dataframe tbody tr th:only-of-type {\n",
       "        vertical-align: middle;\n",
       "    }\n",
       "\n",
       "    .dataframe tbody tr th {\n",
       "        vertical-align: top;\n",
       "    }\n",
       "\n",
       "    .dataframe thead th {\n",
       "        text-align: right;\n",
       "    }\n",
       "</style>\n",
       "<table border=\"1\" class=\"dataframe\">\n",
       "  <thead>\n",
       "    <tr style=\"text-align: right;\">\n",
       "      <th></th>\n",
       "      <th>Unnamed: 0</th>\n",
       "      <th>country</th>\n",
       "      <th>description</th>\n",
       "      <th>designation</th>\n",
       "      <th>points</th>\n",
       "      <th>price</th>\n",
       "      <th>province</th>\n",
       "      <th>region_1</th>\n",
       "      <th>region_2</th>\n",
       "      <th>taster_name</th>\n",
       "      <th>taster_twitter_handle</th>\n",
       "      <th>title</th>\n",
       "      <th>variety</th>\n",
       "      <th>winery</th>\n",
       "    </tr>\n",
       "  </thead>\n",
       "  <tbody>\n",
       "    <tr>\n",
       "      <th>0</th>\n",
       "      <td>0</td>\n",
       "      <td>Italy</td>\n",
       "      <td>Aromas include tropical fruit, broom, brimston...</td>\n",
       "      <td>Vulkà Bianco</td>\n",
       "      <td>87</td>\n",
       "      <td>NaN</td>\n",
       "      <td>Sicily &amp; Sardinia</td>\n",
       "      <td>Etna</td>\n",
       "      <td>NaN</td>\n",
       "      <td>Kerin O’Keefe</td>\n",
       "      <td>@kerinokeefe</td>\n",
       "      <td>Nicosia 2013 Vulkà Bianco  (Etna)</td>\n",
       "      <td>White Blend</td>\n",
       "      <td>Nicosia</td>\n",
       "    </tr>\n",
       "    <tr>\n",
       "      <th>1</th>\n",
       "      <td>1</td>\n",
       "      <td>Portugal</td>\n",
       "      <td>This is ripe and fruity, a wine that is smooth...</td>\n",
       "      <td>Avidagos</td>\n",
       "      <td>87</td>\n",
       "      <td>15.0</td>\n",
       "      <td>Douro</td>\n",
       "      <td>NaN</td>\n",
       "      <td>NaN</td>\n",
       "      <td>Roger Voss</td>\n",
       "      <td>@vossroger</td>\n",
       "      <td>Quinta dos Avidagos 2011 Avidagos Red (Douro)</td>\n",
       "      <td>Portuguese Red</td>\n",
       "      <td>Quinta dos Avidagos</td>\n",
       "    </tr>\n",
       "    <tr>\n",
       "      <th>2</th>\n",
       "      <td>2</td>\n",
       "      <td>US</td>\n",
       "      <td>Tart and snappy, the flavors of lime flesh and...</td>\n",
       "      <td>NaN</td>\n",
       "      <td>87</td>\n",
       "      <td>14.0</td>\n",
       "      <td>Oregon</td>\n",
       "      <td>Willamette Valley</td>\n",
       "      <td>Willamette Valley</td>\n",
       "      <td>Paul Gregutt</td>\n",
       "      <td>@paulgwine</td>\n",
       "      <td>Rainstorm 2013 Pinot Gris (Willamette Valley)</td>\n",
       "      <td>Pinot Gris</td>\n",
       "      <td>Rainstorm</td>\n",
       "    </tr>\n",
       "    <tr>\n",
       "      <th>3</th>\n",
       "      <td>3</td>\n",
       "      <td>US</td>\n",
       "      <td>Pineapple rind, lemon pith and orange blossom ...</td>\n",
       "      <td>Reserve Late Harvest</td>\n",
       "      <td>87</td>\n",
       "      <td>13.0</td>\n",
       "      <td>Michigan</td>\n",
       "      <td>Lake Michigan Shore</td>\n",
       "      <td>NaN</td>\n",
       "      <td>Alexander Peartree</td>\n",
       "      <td>NaN</td>\n",
       "      <td>St. Julian 2013 Reserve Late Harvest Riesling ...</td>\n",
       "      <td>Riesling</td>\n",
       "      <td>St. Julian</td>\n",
       "    </tr>\n",
       "    <tr>\n",
       "      <th>4</th>\n",
       "      <td>4</td>\n",
       "      <td>US</td>\n",
       "      <td>Much like the regular bottling from 2012, this...</td>\n",
       "      <td>Vintner's Reserve Wild Child Block</td>\n",
       "      <td>87</td>\n",
       "      <td>65.0</td>\n",
       "      <td>Oregon</td>\n",
       "      <td>Willamette Valley</td>\n",
       "      <td>Willamette Valley</td>\n",
       "      <td>Paul Gregutt</td>\n",
       "      <td>@paulgwine</td>\n",
       "      <td>Sweet Cheeks 2012 Vintner's Reserve Wild Child...</td>\n",
       "      <td>Pinot Noir</td>\n",
       "      <td>Sweet Cheeks</td>\n",
       "    </tr>\n",
       "  </tbody>\n",
       "</table>\n",
       "</div>"
      ],
      "text/plain": [
       "   Unnamed: 0   country                                        description  \\\n",
       "0           0     Italy  Aromas include tropical fruit, broom, brimston...   \n",
       "1           1  Portugal  This is ripe and fruity, a wine that is smooth...   \n",
       "2           2        US  Tart and snappy, the flavors of lime flesh and...   \n",
       "3           3        US  Pineapple rind, lemon pith and orange blossom ...   \n",
       "4           4        US  Much like the regular bottling from 2012, this...   \n",
       "\n",
       "                          designation  points  price           province  \\\n",
       "0                        Vulkà Bianco      87    NaN  Sicily & Sardinia   \n",
       "1                            Avidagos      87   15.0              Douro   \n",
       "2                                 NaN      87   14.0             Oregon   \n",
       "3                Reserve Late Harvest      87   13.0           Michigan   \n",
       "4  Vintner's Reserve Wild Child Block      87   65.0             Oregon   \n",
       "\n",
       "              region_1           region_2         taster_name  \\\n",
       "0                 Etna                NaN       Kerin O’Keefe   \n",
       "1                  NaN                NaN          Roger Voss   \n",
       "2    Willamette Valley  Willamette Valley        Paul Gregutt   \n",
       "3  Lake Michigan Shore                NaN  Alexander Peartree   \n",
       "4    Willamette Valley  Willamette Valley        Paul Gregutt   \n",
       "\n",
       "  taster_twitter_handle                                              title  \\\n",
       "0          @kerinokeefe                  Nicosia 2013 Vulkà Bianco  (Etna)   \n",
       "1            @vossroger      Quinta dos Avidagos 2011 Avidagos Red (Douro)   \n",
       "2           @paulgwine       Rainstorm 2013 Pinot Gris (Willamette Valley)   \n",
       "3                   NaN  St. Julian 2013 Reserve Late Harvest Riesling ...   \n",
       "4           @paulgwine   Sweet Cheeks 2012 Vintner's Reserve Wild Child...   \n",
       "\n",
       "          variety               winery  \n",
       "0     White Blend              Nicosia  \n",
       "1  Portuguese Red  Quinta dos Avidagos  \n",
       "2      Pinot Gris            Rainstorm  \n",
       "3        Riesling           St. Julian  \n",
       "4      Pinot Noir         Sweet Cheeks  "
      ]
     },
     "execution_count": 220,
     "metadata": {},
     "output_type": "execute_result"
    }
   ],
   "source": [
    "data.head()"
   ]
  },
  {
   "cell_type": "code",
   "execution_count": 221,
   "metadata": {},
   "outputs": [
    {
     "name": "stdout",
     "output_type": "stream",
     "text": [
      "<class 'pandas.core.frame.DataFrame'>\n",
      "RangeIndex: 129971 entries, 0 to 129970\n",
      "Data columns (total 14 columns):\n",
      "Unnamed: 0               129971 non-null int64\n",
      "country                  129908 non-null object\n",
      "description              129971 non-null object\n",
      "designation              92506 non-null object\n",
      "points                   129971 non-null int64\n",
      "price                    120975 non-null float64\n",
      "province                 129908 non-null object\n",
      "region_1                 108724 non-null object\n",
      "region_2                 50511 non-null object\n",
      "taster_name              103727 non-null object\n",
      "taster_twitter_handle    98758 non-null object\n",
      "title                    129971 non-null object\n",
      "variety                  129970 non-null object\n",
      "winery                   129971 non-null object\n",
      "dtypes: float64(1), int64(2), object(11)\n",
      "memory usage: 13.9+ MB\n"
     ]
    }
   ],
   "source": [
    "data.info()"
   ]
  },
  {
   "cell_type": "code",
   "execution_count": 222,
   "metadata": {},
   "outputs": [
    {
     "data": {
      "text/html": [
       "<div>\n",
       "<style scoped>\n",
       "    .dataframe tbody tr th:only-of-type {\n",
       "        vertical-align: middle;\n",
       "    }\n",
       "\n",
       "    .dataframe tbody tr th {\n",
       "        vertical-align: top;\n",
       "    }\n",
       "\n",
       "    .dataframe thead th {\n",
       "        text-align: right;\n",
       "    }\n",
       "</style>\n",
       "<table border=\"1\" class=\"dataframe\">\n",
       "  <thead>\n",
       "    <tr style=\"text-align: right;\">\n",
       "      <th></th>\n",
       "      <th>Unnamed: 0</th>\n",
       "      <th>points</th>\n",
       "      <th>price</th>\n",
       "    </tr>\n",
       "  </thead>\n",
       "  <tbody>\n",
       "    <tr>\n",
       "      <th>count</th>\n",
       "      <td>129971.000000</td>\n",
       "      <td>129971.000000</td>\n",
       "      <td>120975.000000</td>\n",
       "    </tr>\n",
       "    <tr>\n",
       "      <th>mean</th>\n",
       "      <td>64985.000000</td>\n",
       "      <td>88.447138</td>\n",
       "      <td>35.363389</td>\n",
       "    </tr>\n",
       "    <tr>\n",
       "      <th>std</th>\n",
       "      <td>37519.540256</td>\n",
       "      <td>3.039730</td>\n",
       "      <td>41.022218</td>\n",
       "    </tr>\n",
       "    <tr>\n",
       "      <th>min</th>\n",
       "      <td>0.000000</td>\n",
       "      <td>80.000000</td>\n",
       "      <td>4.000000</td>\n",
       "    </tr>\n",
       "    <tr>\n",
       "      <th>25%</th>\n",
       "      <td>32492.500000</td>\n",
       "      <td>86.000000</td>\n",
       "      <td>17.000000</td>\n",
       "    </tr>\n",
       "    <tr>\n",
       "      <th>50%</th>\n",
       "      <td>64985.000000</td>\n",
       "      <td>88.000000</td>\n",
       "      <td>25.000000</td>\n",
       "    </tr>\n",
       "    <tr>\n",
       "      <th>75%</th>\n",
       "      <td>97477.500000</td>\n",
       "      <td>91.000000</td>\n",
       "      <td>42.000000</td>\n",
       "    </tr>\n",
       "    <tr>\n",
       "      <th>max</th>\n",
       "      <td>129970.000000</td>\n",
       "      <td>100.000000</td>\n",
       "      <td>3300.000000</td>\n",
       "    </tr>\n",
       "  </tbody>\n",
       "</table>\n",
       "</div>"
      ],
      "text/plain": [
       "          Unnamed: 0         points          price\n",
       "count  129971.000000  129971.000000  120975.000000\n",
       "mean    64985.000000      88.447138      35.363389\n",
       "std     37519.540256       3.039730      41.022218\n",
       "min         0.000000      80.000000       4.000000\n",
       "25%     32492.500000      86.000000      17.000000\n",
       "50%     64985.000000      88.000000      25.000000\n",
       "75%     97477.500000      91.000000      42.000000\n",
       "max    129970.000000     100.000000    3300.000000"
      ]
     },
     "execution_count": 222,
     "metadata": {},
     "output_type": "execute_result"
    }
   ],
   "source": [
    "data.describe()"
   ]
  },
  {
   "cell_type": "code",
   "execution_count": 223,
   "metadata": {},
   "outputs": [
    {
     "data": {
      "image/png": "[encoded data removed]",
      "text/plain": [
       "<Figure size 432x288 with 1 Axes>"
      ]
     },
     "metadata": {
      "needs_background": "light"
     },
     "output_type": "display_data"
    }
   ],
   "source": [
    "# Visualization 1: Points Distribution\n",
    "\n",
    "plt.hist(data[\"points\"], bins=20)\n",
    "plt.title(\"Points Distribution\")\n",
    "plt.xlabel(\"Rating Points\")\n",
    "plt.ylabel(\"Number\")\n",
    "plt.show()"
   ]
  },
  {
   "cell_type": "markdown",
   "metadata": {},
   "source": [
    "In the first visualization,..."
   ]
  },
  {
   "cell_type": "code",
   "execution_count": 224,
   "metadata": {
    "scrolled": true
   },
   "outputs": [
    {
     "data": {
      "text/html": [
       "<iframe id=\"igraph\" scrolling=\"no\" style=\"border:none;\" seamless=\"seamless\" src=\"https://plot.ly/~crowwwww56/49.embed\" height=\"525px\" width=\"100%\"></iframe>"
      ],
      "text/plain": [
       "<plotly.tools.PlotlyDisplay object>"
      ]
     },
     "execution_count": 224,
     "metadata": {},
     "output_type": "execute_result"
    }
   ],
   "source": [
    "# 改\n",
    "\n",
    "# Visualization 2: Choropleth Map\n",
    "\n",
    "country_counts = data['country'].value_counts()\n",
    "\n",
    "py.iplot([go.Choropleth(\n",
    "    locationmode = 'country names',\n",
    "    locations = country_counts.index.values,\n",
    "    text = country_counts.index,\n",
    "    z = country_counts.values\n",
    ")])"
   ]
  },
  {
   "cell_type": "markdown",
   "metadata": {},
   "source": [
    "In the second visualization,..."
   ]
  },
  {
   "cell_type": "markdown",
   "metadata": {},
   "source": [
    "## 2 Data Preprocessing"
   ]
  },
  {
   "cell_type": "code",
   "execution_count": 4,
   "metadata": {},
   "outputs": [],
   "source": [
    "# drop columns, duplicates, na\n",
    "\n",
    "# 'Unnamed: 0' is not related \n",
    "# 'designation', 'region_2,taster_twitter_handle' containing too many nan\n",
    "# use 'description' instead of 'title'\n",
    "data = data.drop(columns = ['Unnamed: 0','region_2','designation','taster_twitter_handle','title'])\n",
    "\n",
    "data = data.drop_duplicates()\n",
    "data = data.dropna()\n",
    "\n",
    "data = data.reset_index(drop=True)"
   ]
  },
  {
   "cell_type": "code",
   "execution_count": 5,
   "metadata": {},
   "outputs": [
    {
     "data": {
      "text/html": [
       "<div>\n",
       "<style scoped>\n",
       "    .dataframe tbody tr th:only-of-type {\n",
       "        vertical-align: middle;\n",
       "    }\n",
       "\n",
       "    .dataframe tbody tr th {\n",
       "        vertical-align: top;\n",
       "    }\n",
       "\n",
       "    .dataframe thead th {\n",
       "        text-align: right;\n",
       "    }\n",
       "</style>\n",
       "<table border=\"1\" class=\"dataframe\">\n",
       "  <thead>\n",
       "    <tr style=\"text-align: right;\">\n",
       "      <th></th>\n",
       "      <th>country</th>\n",
       "      <th>description</th>\n",
       "      <th>points</th>\n",
       "      <th>price</th>\n",
       "      <th>province</th>\n",
       "      <th>region_1</th>\n",
       "      <th>taster_name</th>\n",
       "      <th>variety</th>\n",
       "      <th>winery</th>\n",
       "    </tr>\n",
       "  </thead>\n",
       "  <tbody>\n",
       "    <tr>\n",
       "      <th>0</th>\n",
       "      <td>US</td>\n",
       "      <td>Tart and snappy, the flavors of lime flesh and...</td>\n",
       "      <td>87</td>\n",
       "      <td>14.0</td>\n",
       "      <td>Oregon</td>\n",
       "      <td>Willamette Valley</td>\n",
       "      <td>Paul Gregutt</td>\n",
       "      <td>Pinot Gris</td>\n",
       "      <td>Rainstorm</td>\n",
       "    </tr>\n",
       "    <tr>\n",
       "      <th>1</th>\n",
       "      <td>US</td>\n",
       "      <td>Pineapple rind, lemon pith and orange blossom ...</td>\n",
       "      <td>87</td>\n",
       "      <td>13.0</td>\n",
       "      <td>Michigan</td>\n",
       "      <td>Lake Michigan Shore</td>\n",
       "      <td>Alexander Peartree</td>\n",
       "      <td>Riesling</td>\n",
       "      <td>St. Julian</td>\n",
       "    </tr>\n",
       "    <tr>\n",
       "      <th>2</th>\n",
       "      <td>US</td>\n",
       "      <td>Much like the regular bottling from 2012, this...</td>\n",
       "      <td>87</td>\n",
       "      <td>65.0</td>\n",
       "      <td>Oregon</td>\n",
       "      <td>Willamette Valley</td>\n",
       "      <td>Paul Gregutt</td>\n",
       "      <td>Pinot Noir</td>\n",
       "      <td>Sweet Cheeks</td>\n",
       "    </tr>\n",
       "    <tr>\n",
       "      <th>3</th>\n",
       "      <td>Spain</td>\n",
       "      <td>Blackberry and raspberry aromas show a typical...</td>\n",
       "      <td>87</td>\n",
       "      <td>15.0</td>\n",
       "      <td>Northern Spain</td>\n",
       "      <td>Navarra</td>\n",
       "      <td>Michael Schachner</td>\n",
       "      <td>Tempranillo-Merlot</td>\n",
       "      <td>Tandem</td>\n",
       "    </tr>\n",
       "    <tr>\n",
       "      <th>4</th>\n",
       "      <td>Italy</td>\n",
       "      <td>Here's a bright, informal red that opens with ...</td>\n",
       "      <td>87</td>\n",
       "      <td>16.0</td>\n",
       "      <td>Sicily &amp; Sardinia</td>\n",
       "      <td>Vittoria</td>\n",
       "      <td>Kerin O’Keefe</td>\n",
       "      <td>Frappato</td>\n",
       "      <td>Terre di Giurfo</td>\n",
       "    </tr>\n",
       "  </tbody>\n",
       "</table>\n",
       "</div>"
      ],
      "text/plain": [
       "  country                                        description  points  price  \\\n",
       "0      US  Tart and snappy, the flavors of lime flesh and...      87   14.0   \n",
       "1      US  Pineapple rind, lemon pith and orange blossom ...      87   13.0   \n",
       "2      US  Much like the regular bottling from 2012, this...      87   65.0   \n",
       "3   Spain  Blackberry and raspberry aromas show a typical...      87   15.0   \n",
       "4   Italy  Here's a bright, informal red that opens with ...      87   16.0   \n",
       "\n",
       "            province             region_1         taster_name  \\\n",
       "0             Oregon    Willamette Valley        Paul Gregutt   \n",
       "1           Michigan  Lake Michigan Shore  Alexander Peartree   \n",
       "2             Oregon    Willamette Valley        Paul Gregutt   \n",
       "3     Northern Spain              Navarra   Michael Schachner   \n",
       "4  Sicily & Sardinia             Vittoria       Kerin O’Keefe   \n",
       "\n",
       "              variety           winery  \n",
       "0          Pinot Gris        Rainstorm  \n",
       "1            Riesling       St. Julian  \n",
       "2          Pinot Noir     Sweet Cheeks  \n",
       "3  Tempranillo-Merlot           Tandem  \n",
       "4            Frappato  Terre di Giurfo  "
      ]
     },
     "execution_count": 5,
     "metadata": {},
     "output_type": "execute_result"
    }
   ],
   "source": [
    "data.head()"
   ]
  },
  {
   "cell_type": "code",
   "execution_count": 6,
   "metadata": {},
   "outputs": [],
   "source": [
    "# choosing random subset of the dataset\n",
    "\n",
    "data = data.sample(n=5000)\n",
    "data = data.reset_index(drop=True)"
   ]
  },
  {
   "cell_type": "code",
   "execution_count": 7,
   "metadata": {},
   "outputs": [
    {
     "data": {
      "text/plain": [
       "(5000, 9)"
      ]
     },
     "execution_count": 7,
     "metadata": {},
     "output_type": "execute_result"
    }
   ],
   "source": [
    "data.shape"
   ]
  },
  {
   "cell_type": "code",
   "execution_count": 8,
   "metadata": {},
   "outputs": [
    {
     "data": {
      "text/html": [
       "<div>\n",
       "<style scoped>\n",
       "    .dataframe tbody tr th:only-of-type {\n",
       "        vertical-align: middle;\n",
       "    }\n",
       "\n",
       "    .dataframe tbody tr th {\n",
       "        vertical-align: top;\n",
       "    }\n",
       "\n",
       "    .dataframe thead th {\n",
       "        text-align: right;\n",
       "    }\n",
       "</style>\n",
       "<table border=\"1\" class=\"dataframe\">\n",
       "  <thead>\n",
       "    <tr style=\"text-align: right;\">\n",
       "      <th></th>\n",
       "      <th>country</th>\n",
       "      <th>description</th>\n",
       "      <th>points</th>\n",
       "      <th>price</th>\n",
       "      <th>province</th>\n",
       "      <th>region_1</th>\n",
       "      <th>taster_name</th>\n",
       "      <th>variety</th>\n",
       "      <th>winery</th>\n",
       "    </tr>\n",
       "  </thead>\n",
       "  <tbody>\n",
       "    <tr>\n",
       "      <th>0</th>\n",
       "      <td>US</td>\n",
       "      <td>This is a moderately aromatic wine with notes ...</td>\n",
       "      <td>84</td>\n",
       "      <td>16.0</td>\n",
       "      <td>Oregon</td>\n",
       "      <td>Umpqua Valley</td>\n",
       "      <td>Sean P. Sullivan</td>\n",
       "      <td>Riesling</td>\n",
       "      <td>Girardet</td>\n",
       "    </tr>\n",
       "    <tr>\n",
       "      <th>1</th>\n",
       "      <td>France</td>\n",
       "      <td>Fragrant and floral, this is a deliciously eas...</td>\n",
       "      <td>85</td>\n",
       "      <td>8.0</td>\n",
       "      <td>Southwest France</td>\n",
       "      <td>Vin de Pays des Côtes de Gascogne</td>\n",
       "      <td>Roger Voss</td>\n",
       "      <td>White Blend</td>\n",
       "      <td>Producteurs Plaimont</td>\n",
       "    </tr>\n",
       "    <tr>\n",
       "      <th>2</th>\n",
       "      <td>France</td>\n",
       "      <td>Aromas of peach and freshly cut apple peel tur...</td>\n",
       "      <td>90</td>\n",
       "      <td>26.0</td>\n",
       "      <td>Alsace</td>\n",
       "      <td>Alsace</td>\n",
       "      <td>Anne Krebiehl MW</td>\n",
       "      <td>Riesling</td>\n",
       "      <td>Kuentz-Bas</td>\n",
       "    </tr>\n",
       "    <tr>\n",
       "      <th>3</th>\n",
       "      <td>France</td>\n",
       "      <td>With the vineyards in the family since the 18t...</td>\n",
       "      <td>90</td>\n",
       "      <td>30.0</td>\n",
       "      <td>Bordeaux</td>\n",
       "      <td>Castillon Côtes de Bordeaux</td>\n",
       "      <td>Roger Voss</td>\n",
       "      <td>Bordeaux-style Red Blend</td>\n",
       "      <td>Château Bréhat</td>\n",
       "    </tr>\n",
       "    <tr>\n",
       "      <th>4</th>\n",
       "      <td>France</td>\n",
       "      <td>A fresh, friendly and fruity apple scent on th...</td>\n",
       "      <td>87</td>\n",
       "      <td>20.0</td>\n",
       "      <td>Alsace</td>\n",
       "      <td>Alsace</td>\n",
       "      <td>Anne Krebiehl MW</td>\n",
       "      <td>Sylvaner</td>\n",
       "      <td>Domaine Charles Frey</td>\n",
       "    </tr>\n",
       "  </tbody>\n",
       "</table>\n",
       "</div>"
      ],
      "text/plain": [
       "  country                                        description  points  price  \\\n",
       "0      US  This is a moderately aromatic wine with notes ...      84   16.0   \n",
       "1  France  Fragrant and floral, this is a deliciously eas...      85    8.0   \n",
       "2  France  Aromas of peach and freshly cut apple peel tur...      90   26.0   \n",
       "3  France  With the vineyards in the family since the 18t...      90   30.0   \n",
       "4  France  A fresh, friendly and fruity apple scent on th...      87   20.0   \n",
       "\n",
       "           province                           region_1       taster_name  \\\n",
       "0            Oregon                      Umpqua Valley  Sean P. Sullivan   \n",
       "1  Southwest France  Vin de Pays des Côtes de Gascogne        Roger Voss   \n",
       "2            Alsace                             Alsace  Anne Krebiehl MW   \n",
       "3          Bordeaux        Castillon Côtes de Bordeaux        Roger Voss   \n",
       "4            Alsace                             Alsace  Anne Krebiehl MW   \n",
       "\n",
       "                    variety                winery  \n",
       "0                  Riesling              Girardet  \n",
       "1               White Blend  Producteurs Plaimont  \n",
       "2                  Riesling            Kuentz-Bas  \n",
       "3  Bordeaux-style Red Blend        Château Bréhat  \n",
       "4                  Sylvaner  Domaine Charles Frey  "
      ]
     },
     "execution_count": 8,
     "metadata": {},
     "output_type": "execute_result"
    }
   ],
   "source": [
    "data.head()"
   ]
  },
  {
   "cell_type": "code",
   "execution_count": 9,
   "metadata": {},
   "outputs": [
    {
     "data": {
      "text/plain": [
       "country         object\n",
       "description     object\n",
       "points           int64\n",
       "price          float64\n",
       "province        object\n",
       "region_1        object\n",
       "taster_name     object\n",
       "variety         object\n",
       "winery          object\n",
       "dtype: object"
      ]
     },
     "execution_count": 9,
     "metadata": {},
     "output_type": "execute_result"
    }
   ],
   "source": [
    "data.dtypes"
   ]
  },
  {
   "cell_type": "code",
   "execution_count": 10,
   "metadata": {},
   "outputs": [
    {
     "data": {
      "text/plain": [
       "(5000, 4101)"
      ]
     },
     "execution_count": 10,
     "metadata": {},
     "output_type": "execute_result"
    }
   ],
   "source": [
    "# one-hot encoding for categorical columns \n",
    "\n",
    "data = pd.get_dummies(data, columns = [\"country\",\"province\",\"region_1\",\"taster_name\",\"variety\",\"winery\"])\n",
    "data.shape"
   ]
  },
  {
   "cell_type": "code",
   "execution_count": 11,
   "metadata": {},
   "outputs": [],
   "source": [
    "# clean text data by removing stop words, tokenization, stemming\n",
    "\n",
    "stopwords = []\n",
    "with open('stopwords_english.txt') as fsw:\n",
    "    for word in fsw.readlines():\n",
    "        word = word.strip('\\n')\n",
    "        stopwords.append(word)\n",
    "fsw.close()\n",
    "\n",
    "def preprocess_text(text):\n",
    "    text = text.apply(lambda x: \" \".join(x.lower() for x in str(x).split()))\n",
    "    text = text.apply(lambda x: \" \".join(x.strip() for x in str(x).split()))\n",
    "    text = text.apply(lambda x: \"\".join([\" \" if ord(i) < 32 or ord(i) > 126 else i for i in x]))\n",
    "    text = text.str.replace('[^\\w\\s]', '')\n",
    "    text = text.str.replace('\\d+', '')\n",
    "    text = text.apply(lambda x: \" \".join([word for word in str(x).split() if word not in (stopwords)]))\n",
    "    text = text.astype(str)\n",
    "    return text\n",
    "data['description'] = preprocess_text(data['description'])\n",
    "\n",
    "ps = nltk.stem.PorterStemmer()\n",
    "def stem(text):\n",
    "    text = text.apply(lambda x: \" \".join([ps.stem(x) for x in str(x).split()]))\n",
    "    return text\n",
    "data['description'] = stem(data['description'])"
   ]
  },
  {
   "cell_type": "code",
   "execution_count": 12,
   "metadata": {},
   "outputs": [
    {
     "data": {
      "text/plain": [
       "0    moder aromat wine note tangerin lime herb dri ...\n",
       "1    fragrant floral delici easi wine blend local g...\n",
       "2    aroma peach freshli cut appl peel turn rounder...\n",
       "3    vineyard famili sinc th centuri j r b atric de...\n",
       "4    fresh friendli fruiti appl scent nose far subd...\n",
       "Name: description, dtype: object"
      ]
     },
     "execution_count": 12,
     "metadata": {},
     "output_type": "execute_result"
    }
   ],
   "source": [
    "data['description'].head()"
   ]
  },
  {
   "cell_type": "code",
   "execution_count": 13,
   "metadata": {},
   "outputs": [],
   "source": [
    "# split dataset into train set and test set\n",
    "\n",
    "train, test = train_test_split(data,test_size=0.2,random_state=0)\n",
    "train = train.reset_index(drop=True)\n",
    "test = test.reset_index(drop=True)"
   ]
  },
  {
   "cell_type": "code",
   "execution_count": 14,
   "metadata": {},
   "outputs": [
    {
     "data": {
      "text/plain": [
       "((4000, 4101), (1000, 4101))"
      ]
     },
     "execution_count": 14,
     "metadata": {},
     "output_type": "execute_result"
    }
   ],
   "source": [
    "train.shape, test.shape"
   ]
  },
  {
   "cell_type": "code",
   "execution_count": 15,
   "metadata": {},
   "outputs": [],
   "source": [
    "# normalize quantitative columns\n",
    "\n",
    "scaler = StandardScaler()\n",
    "\n",
    "train[['price','points']] = scaler.fit_transform(train[['price','points']])\n",
    "test[['price','points']] = scaler.transform(test[['price','points']])"
   ]
  },
  {
   "cell_type": "code",
   "execution_count": 16,
   "metadata": {},
   "outputs": [],
   "source": [
    "# get X_train, X_test, y_train, y_test\n",
    "\n",
    "X_train = train.drop(['points'],axis=1)\n",
    "X_test = test.drop(['points'],axis=1)\n",
    "y_train = train['points']\n",
    "y_test = test['points']"
   ]
  },
  {
   "cell_type": "code",
   "execution_count": 17,
   "metadata": {},
   "outputs": [
    {
     "data": {
      "text/plain": [
       "((4000, 4101), (1000, 4101), (4000, 4100), (1000, 4100), (4000,), (1000,))"
      ]
     },
     "execution_count": 17,
     "metadata": {},
     "output_type": "execute_result"
    }
   ],
   "source": [
    "train.shape, test.shape, X_train.shape, X_test.shape, y_train.shape, y_test.shape"
   ]
  },
  {
   "cell_type": "code",
   "execution_count": 18,
   "metadata": {},
   "outputs": [],
   "source": [
    "# TF-IDF\n",
    "vectorizer = TfidfVectorizer(sublinear_tf = True)\n",
    "train_text = vectorizer.fit_transform(X_train.description)\n",
    "test_text = vectorizer.transform(X_test.description)"
   ]
  },
  {
   "cell_type": "code",
   "execution_count": 19,
   "metadata": {},
   "outputs": [],
   "source": [
    "# LDA\n",
    "lda = LatentDirichletAllocation(n_components=10)\n",
    "train_text = lda.fit_transform(train_text)\n",
    "test_text = lda.transform(test_text) "
   ]
  },
  {
   "cell_type": "code",
   "execution_count": 20,
   "metadata": {},
   "outputs": [
    {
     "data": {
      "text/plain": [
       "(array([[0.02692668, 0.02692668, 0.02692668, ..., 0.59685577, 0.0269367 ,\n",
       "         0.02692668],\n",
       "        [0.01790156, 0.01790156, 0.01790156, ..., 0.71928279, 0.01790508,\n",
       "         0.13749835],\n",
       "        [0.01612365, 0.01612334, 0.01612334, ..., 0.6328263 , 0.19333878,\n",
       "         0.01612342],\n",
       "        ...,\n",
       "        [0.01902446, 0.01902446, 0.01902446, ..., 0.01902861, 0.82877572,\n",
       "         0.01902446],\n",
       "        [0.01809207, 0.01809207, 0.01809207, ..., 0.01809665, 0.83716639,\n",
       "         0.01809227],\n",
       "        [0.01583398, 0.01582852, 0.01583165, ..., 0.70235223, 0.17100912,\n",
       "         0.01582852]]),\n",
       " array([[0.08426179, 0.0180471 , 0.0180471 , ..., 0.67730191, 0.11210387,\n",
       "         0.01804748],\n",
       "        [0.01786732, 0.01786732, 0.01786732, ..., 0.78693999, 0.01787254,\n",
       "         0.01786835],\n",
       "        [0.0168662 , 0.01686624, 0.06082444, ..., 0.39067328, 0.31231201,\n",
       "         0.01687152],\n",
       "        ...,\n",
       "        [0.02097538, 0.02097538, 0.02097538, ..., 0.70814483, 0.02098326,\n",
       "         0.12404427],\n",
       "        [0.02001731, 0.02001731, 0.02001731, ..., 0.81984176, 0.02001976,\n",
       "         0.02001731],\n",
       "        [0.01726918, 0.01726889, 0.01726297, ..., 0.78545613, 0.07641196,\n",
       "         0.01726297]]))"
      ]
     },
     "execution_count": 20,
     "metadata": {},
     "output_type": "execute_result"
    }
   ],
   "source": [
    "train_text,test_text"
   ]
  },
  {
   "cell_type": "code",
   "execution_count": 21,
   "metadata": {},
   "outputs": [],
   "source": [
    "# get preprocessed X_train, X_test, y_train, y_test\n",
    "\n",
    "# drop 'description' from X_train, X_test\n",
    "X_train_preprocessed = X_train.drop(['description'],axis=1)\n",
    "X_test_preprocessed = X_test.drop(['description'],axis=1)"
   ]
  },
  {
   "cell_type": "code",
   "execution_count": 22,
   "metadata": {},
   "outputs": [],
   "source": [
    "# convert lda result array into dataframe\n",
    "train_lda = pd.DataFrame(train_text)\n",
    "test_lda = pd.DataFrame(test_text)"
   ]
  },
  {
   "cell_type": "code",
   "execution_count": 23,
   "metadata": {},
   "outputs": [],
   "source": [
    "# concat lda df and X_train_preprocessed\n",
    "X_train_preprocessed2 = pd.concat([train_lda,X_train_preprocessed],axis = 1)\n",
    "X_test_preprocessed2 = pd.concat([test_lda,X_test_preprocessed],axis = 1)"
   ]
  },
  {
   "cell_type": "code",
   "execution_count": 24,
   "metadata": {},
   "outputs": [
    {
     "data": {
      "text/plain": [
       "((4000, 4099), (4000, 10), (4000, 4109))"
      ]
     },
     "execution_count": 24,
     "metadata": {},
     "output_type": "execute_result"
    }
   ],
   "source": [
    "X_train_preprocessed.shape,train_lda.shape,X_train_preprocessed2.shape"
   ]
  },
  {
   "cell_type": "code",
   "execution_count": 25,
   "metadata": {},
   "outputs": [],
   "source": [
    "# get values\n",
    "X_train_preprocessed3 = X_train_preprocessed2.values\n",
    "X_test_preprocessed3 = X_test_preprocessed2.values"
   ]
  },
  {
   "cell_type": "code",
   "execution_count": 26,
   "metadata": {},
   "outputs": [],
   "source": [
    "# X_train_preprocessed3, X_test_preprocessed3, y_train, y_test"
   ]
  },
  {
   "cell_type": "markdown",
   "metadata": {},
   "source": [
    "I did following setps to preprocecssed the data:\n",
    "\n",
    "\n"
   ]
  },
  {
   "cell_type": "markdown",
   "metadata": {},
   "source": [
    "## 3 Model Hyperparameters"
   ]
  },
  {
   "cell_type": "code",
   "execution_count": 27,
   "metadata": {},
   "outputs": [
    {
     "data": {
      "text/html": [
       "<div>\n",
       "<style scoped>\n",
       "    .dataframe tbody tr th:only-of-type {\n",
       "        vertical-align: middle;\n",
       "    }\n",
       "\n",
       "    .dataframe tbody tr th {\n",
       "        vertical-align: top;\n",
       "    }\n",
       "\n",
       "    .dataframe thead th {\n",
       "        text-align: right;\n",
       "    }\n",
       "</style>\n",
       "<table border=\"1\" class=\"dataframe\">\n",
       "  <thead>\n",
       "    <tr style=\"text-align: right;\">\n",
       "      <th></th>\n",
       "      <th>mean_fit_time</th>\n",
       "      <th>std_fit_time</th>\n",
       "      <th>mean_score_time</th>\n",
       "      <th>std_score_time</th>\n",
       "      <th>param_alpha</th>\n",
       "      <th>params</th>\n",
       "      <th>split0_test_score</th>\n",
       "      <th>split1_test_score</th>\n",
       "      <th>split2_test_score</th>\n",
       "      <th>split3_test_score</th>\n",
       "      <th>...</th>\n",
       "      <th>split2_train_score</th>\n",
       "      <th>split3_train_score</th>\n",
       "      <th>split4_train_score</th>\n",
       "      <th>split5_train_score</th>\n",
       "      <th>split6_train_score</th>\n",
       "      <th>split7_train_score</th>\n",
       "      <th>split8_train_score</th>\n",
       "      <th>split9_train_score</th>\n",
       "      <th>mean_train_score</th>\n",
       "      <th>std_train_score</th>\n",
       "    </tr>\n",
       "  </thead>\n",
       "  <tbody>\n",
       "    <tr>\n",
       "      <th>0</th>\n",
       "      <td>2.589709</td>\n",
       "      <td>0.197242</td>\n",
       "      <td>0.004390</td>\n",
       "      <td>0.000661</td>\n",
       "      <td>0.01</td>\n",
       "      <td>{'alpha': 0.01}</td>\n",
       "      <td>0.923518</td>\n",
       "      <td>0.805602</td>\n",
       "      <td>0.885995</td>\n",
       "      <td>0.803277</td>\n",
       "      <td>...</td>\n",
       "      <td>0.077313</td>\n",
       "      <td>0.077050</td>\n",
       "      <td>0.075967</td>\n",
       "      <td>0.076453</td>\n",
       "      <td>0.076545</td>\n",
       "      <td>0.074073</td>\n",
       "      <td>0.077907</td>\n",
       "      <td>0.073528</td>\n",
       "      <td>0.076545</td>\n",
       "      <td>0.001583</td>\n",
       "    </tr>\n",
       "    <tr>\n",
       "      <th>1</th>\n",
       "      <td>2.729505</td>\n",
       "      <td>0.145741</td>\n",
       "      <td>0.004489</td>\n",
       "      <td>0.000499</td>\n",
       "      <td>0.05</td>\n",
       "      <td>{'alpha': 0.05}</td>\n",
       "      <td>0.780871</td>\n",
       "      <td>0.722914</td>\n",
       "      <td>0.745912</td>\n",
       "      <td>0.728290</td>\n",
       "      <td>...</td>\n",
       "      <td>0.080619</td>\n",
       "      <td>0.080190</td>\n",
       "      <td>0.079257</td>\n",
       "      <td>0.079436</td>\n",
       "      <td>0.079249</td>\n",
       "      <td>0.077273</td>\n",
       "      <td>0.080751</td>\n",
       "      <td>0.077186</td>\n",
       "      <td>0.079744</td>\n",
       "      <td>0.001561</td>\n",
       "    </tr>\n",
       "    <tr>\n",
       "      <th>2</th>\n",
       "      <td>2.870022</td>\n",
       "      <td>0.225826</td>\n",
       "      <td>0.004289</td>\n",
       "      <td>0.000457</td>\n",
       "      <td>0.1</td>\n",
       "      <td>{'alpha': 0.1}</td>\n",
       "      <td>0.723831</td>\n",
       "      <td>0.688317</td>\n",
       "      <td>0.691833</td>\n",
       "      <td>0.695818</td>\n",
       "      <td>...</td>\n",
       "      <td>0.085299</td>\n",
       "      <td>0.084707</td>\n",
       "      <td>0.083839</td>\n",
       "      <td>0.083947</td>\n",
       "      <td>0.083376</td>\n",
       "      <td>0.081948</td>\n",
       "      <td>0.085235</td>\n",
       "      <td>0.081961</td>\n",
       "      <td>0.084320</td>\n",
       "      <td>0.001579</td>\n",
       "    </tr>\n",
       "    <tr>\n",
       "      <th>3</th>\n",
       "      <td>2.769276</td>\n",
       "      <td>0.101291</td>\n",
       "      <td>0.004688</td>\n",
       "      <td>0.000639</td>\n",
       "      <td>1</td>\n",
       "      <td>{'alpha': 1.0}</td>\n",
       "      <td>0.591876</td>\n",
       "      <td>0.588106</td>\n",
       "      <td>0.558864</td>\n",
       "      <td>0.610287</td>\n",
       "      <td>...</td>\n",
       "      <td>0.182827</td>\n",
       "      <td>0.179478</td>\n",
       "      <td>0.180568</td>\n",
       "      <td>0.180592</td>\n",
       "      <td>0.177376</td>\n",
       "      <td>0.178465</td>\n",
       "      <td>0.180980</td>\n",
       "      <td>0.179285</td>\n",
       "      <td>0.180428</td>\n",
       "      <td>0.001713</td>\n",
       "    </tr>\n",
       "    <tr>\n",
       "      <th>4</th>\n",
       "      <td>2.781273</td>\n",
       "      <td>0.193385</td>\n",
       "      <td>0.005188</td>\n",
       "      <td>0.001984</td>\n",
       "      <td>5</td>\n",
       "      <td>{'alpha': 5.0}</td>\n",
       "      <td>0.574048</td>\n",
       "      <td>0.577808</td>\n",
       "      <td>0.547283</td>\n",
       "      <td>0.587035</td>\n",
       "      <td>...</td>\n",
       "      <td>0.381354</td>\n",
       "      <td>0.376711</td>\n",
       "      <td>0.378604</td>\n",
       "      <td>0.378886</td>\n",
       "      <td>0.372761</td>\n",
       "      <td>0.371514</td>\n",
       "      <td>0.376347</td>\n",
       "      <td>0.375090</td>\n",
       "      <td>0.377017</td>\n",
       "      <td>0.002991</td>\n",
       "    </tr>\n",
       "  </tbody>\n",
       "</table>\n",
       "<p>5 rows × 31 columns</p>\n",
       "</div>"
      ],
      "text/plain": [
       "   mean_fit_time  std_fit_time  mean_score_time  std_score_time param_alpha  \\\n",
       "0       2.589709      0.197242         0.004390        0.000661        0.01   \n",
       "1       2.729505      0.145741         0.004489        0.000499        0.05   \n",
       "2       2.870022      0.225826         0.004289        0.000457         0.1   \n",
       "3       2.769276      0.101291         0.004688        0.000639           1   \n",
       "4       2.781273      0.193385         0.005188        0.001984           5   \n",
       "\n",
       "            params  split0_test_score  split1_test_score  split2_test_score  \\\n",
       "0  {'alpha': 0.01}           0.923518           0.805602           0.885995   \n",
       "1  {'alpha': 0.05}           0.780871           0.722914           0.745912   \n",
       "2   {'alpha': 0.1}           0.723831           0.688317           0.691833   \n",
       "3   {'alpha': 1.0}           0.591876           0.588106           0.558864   \n",
       "4   {'alpha': 5.0}           0.574048           0.577808           0.547283   \n",
       "\n",
       "   split3_test_score       ...         split2_train_score  split3_train_score  \\\n",
       "0           0.803277       ...                   0.077313            0.077050   \n",
       "1           0.728290       ...                   0.080619            0.080190   \n",
       "2           0.695818       ...                   0.085299            0.084707   \n",
       "3           0.610287       ...                   0.182827            0.179478   \n",
       "4           0.587035       ...                   0.381354            0.376711   \n",
       "\n",
       "   split4_train_score  split5_train_score  split6_train_score  \\\n",
       "0            0.075967            0.076453            0.076545   \n",
       "1            0.079257            0.079436            0.079249   \n",
       "2            0.083839            0.083947            0.083376   \n",
       "3            0.180568            0.180592            0.177376   \n",
       "4            0.378604            0.378886            0.372761   \n",
       "\n",
       "   split7_train_score  split8_train_score  split9_train_score  \\\n",
       "0            0.074073            0.077907            0.073528   \n",
       "1            0.077273            0.080751            0.077186   \n",
       "2            0.081948            0.085235            0.081961   \n",
       "3            0.178465            0.180980            0.179285   \n",
       "4            0.371514            0.376347            0.375090   \n",
       "\n",
       "   mean_train_score  std_train_score  \n",
       "0          0.076545         0.001583  \n",
       "1          0.079744         0.001561  \n",
       "2          0.084320         0.001579  \n",
       "3          0.180428         0.001713  \n",
       "4          0.377017         0.002991  \n",
       "\n",
       "[5 rows x 31 columns]"
      ]
     },
     "execution_count": 27,
     "metadata": {},
     "output_type": "execute_result"
    }
   ],
   "source": [
    "# Ridge Regression\n",
    "\n",
    "from sklearn.metrics import make_scorer\n",
    "from sklearn.metrics import mean_squared_error\n",
    "mse = make_scorer(mean_squared_error)\n",
    "\n",
    "from sklearn.model_selection import GridSearchCV\n",
    "from sklearn.linear_model import Ridge\n",
    "grid = GridSearchCV(estimator = Ridge(), param_grid = {'alpha':[0.01,0.05,0.1,1.0,5.0]}, scoring =mse, cv = 10, return_train_score=True).fit(X_train_preprocessed3, y_train)\n",
    "result = pd.DataFrame(grid.cv_results_)\n",
    "result.head(10)"
   ]
  },
  {
   "cell_type": "code",
   "execution_count": 28,
   "metadata": {},
   "outputs": [
    {
     "data": {
      "text/html": [
       "<div>\n",
       "<style scoped>\n",
       "    .dataframe tbody tr th:only-of-type {\n",
       "        vertical-align: middle;\n",
       "    }\n",
       "\n",
       "    .dataframe tbody tr th {\n",
       "        vertical-align: top;\n",
       "    }\n",
       "\n",
       "    .dataframe thead th {\n",
       "        text-align: right;\n",
       "    }\n",
       "</style>\n",
       "<table border=\"1\" class=\"dataframe\">\n",
       "  <thead>\n",
       "    <tr style=\"text-align: right;\">\n",
       "      <th></th>\n",
       "      <th>1</th>\n",
       "      <th>2</th>\n",
       "      <th>3</th>\n",
       "      <th>4</th>\n",
       "      <th>5</th>\n",
       "    </tr>\n",
       "  </thead>\n",
       "  <tbody>\n",
       "    <tr>\n",
       "      <th>split0_test_score</th>\n",
       "      <td>0.923518</td>\n",
       "      <td>0.780871</td>\n",
       "      <td>0.723831</td>\n",
       "      <td>0.591876</td>\n",
       "      <td>0.574048</td>\n",
       "    </tr>\n",
       "    <tr>\n",
       "      <th>split1_test_score</th>\n",
       "      <td>0.805602</td>\n",
       "      <td>0.722914</td>\n",
       "      <td>0.688317</td>\n",
       "      <td>0.588106</td>\n",
       "      <td>0.577808</td>\n",
       "    </tr>\n",
       "    <tr>\n",
       "      <th>split2_test_score</th>\n",
       "      <td>0.885995</td>\n",
       "      <td>0.745912</td>\n",
       "      <td>0.691833</td>\n",
       "      <td>0.558864</td>\n",
       "      <td>0.547283</td>\n",
       "    </tr>\n",
       "    <tr>\n",
       "      <th>split3_test_score</th>\n",
       "      <td>0.803277</td>\n",
       "      <td>0.728290</td>\n",
       "      <td>0.695818</td>\n",
       "      <td>0.610287</td>\n",
       "      <td>0.587035</td>\n",
       "    </tr>\n",
       "    <tr>\n",
       "      <th>split4_test_score</th>\n",
       "      <td>0.953042</td>\n",
       "      <td>0.826023</td>\n",
       "      <td>0.768274</td>\n",
       "      <td>0.604952</td>\n",
       "      <td>0.578150</td>\n",
       "    </tr>\n",
       "    <tr>\n",
       "      <th>split5_test_score</th>\n",
       "      <td>0.785888</td>\n",
       "      <td>0.703549</td>\n",
       "      <td>0.665503</td>\n",
       "      <td>0.570152</td>\n",
       "      <td>0.560286</td>\n",
       "    </tr>\n",
       "    <tr>\n",
       "      <th>split6_test_score</th>\n",
       "      <td>0.942282</td>\n",
       "      <td>0.852429</td>\n",
       "      <td>0.809069</td>\n",
       "      <td>0.684426</td>\n",
       "      <td>0.675874</td>\n",
       "    </tr>\n",
       "    <tr>\n",
       "      <th>split7_test_score</th>\n",
       "      <td>0.970922</td>\n",
       "      <td>0.857546</td>\n",
       "      <td>0.808599</td>\n",
       "      <td>0.693312</td>\n",
       "      <td>0.694660</td>\n",
       "    </tr>\n",
       "    <tr>\n",
       "      <th>split8_test_score</th>\n",
       "      <td>0.830643</td>\n",
       "      <td>0.743125</td>\n",
       "      <td>0.700486</td>\n",
       "      <td>0.609317</td>\n",
       "      <td>0.614010</td>\n",
       "    </tr>\n",
       "    <tr>\n",
       "      <th>split9_test_score</th>\n",
       "      <td>0.984816</td>\n",
       "      <td>0.836978</td>\n",
       "      <td>0.782818</td>\n",
       "      <td>0.655698</td>\n",
       "      <td>0.657554</td>\n",
       "    </tr>\n",
       "  </tbody>\n",
       "</table>\n",
       "</div>"
      ],
      "text/plain": [
       "                          1         2         3         4         5\n",
       "split0_test_score  0.923518  0.780871  0.723831  0.591876  0.574048\n",
       "split1_test_score  0.805602  0.722914  0.688317  0.588106  0.577808\n",
       "split2_test_score  0.885995  0.745912  0.691833  0.558864  0.547283\n",
       "split3_test_score  0.803277  0.728290  0.695818  0.610287  0.587035\n",
       "split4_test_score  0.953042  0.826023  0.768274  0.604952  0.578150\n",
       "split5_test_score  0.785888  0.703549  0.665503  0.570152  0.560286\n",
       "split6_test_score  0.942282  0.852429  0.809069  0.684426  0.675874\n",
       "split7_test_score  0.970922  0.857546  0.808599  0.693312  0.694660\n",
       "split8_test_score  0.830643  0.743125  0.700486  0.609317  0.614010\n",
       "split9_test_score  0.984816  0.836978  0.782818  0.655698  0.657554"
      ]
     },
     "execution_count": 28,
     "metadata": {},
     "output_type": "execute_result"
    }
   ],
   "source": [
    "result_filtered2 = result[[\"split0_test_score\",\"split1_test_score\",\"split2_test_score\",\"split3_test_score\",\"split4_test_score\",\"split5_test_score\",\"split6_test_score\",\"split7_test_score\",\"split8_test_score\",\"split9_test_score\"]]\n",
    "result_filtered3_ridge = np.transpose(result_filtered2)\n",
    "result_filtered3_ridge.columns = ['1','2','3','4','5']\n",
    "result_filtered3_ridge"
   ]
  },
  {
   "cell_type": "code",
   "execution_count": 29,
   "metadata": {},
   "outputs": [
    {
     "data": {
      "text/plain": [
       "Text(0.5, 0, 'alpha')"
      ]
     },
     "execution_count": 29,
     "metadata": {},
     "output_type": "execute_result"
    },
    {
     "data": {
      "image/png": "[encoded data removed]",
      "text/plain": [
       "<Figure size 432x288 with 1 Axes>"
      ]
     },
     "metadata": {
      "needs_background": "light"
     },
     "output_type": "display_data"
    }
   ],
   "source": [
    "result_filtered3_ridge.boxplot()\n",
    "plt.title(\"ridge\")\n",
    "plt.ylabel(\"mse\")\n",
    "plt.xlabel(\"alpha\")"
   ]
  },
  {
   "cell_type": "code",
   "execution_count": 30,
   "metadata": {},
   "outputs": [
    {
     "data": {
      "text/plain": [
       "Text(0.5, 0, 'alpha')"
      ]
     },
     "execution_count": 30,
     "metadata": {},
     "output_type": "execute_result"
    },
    {
     "data": {
      "image/png": "[encoded data removed]",
      "text/plain": [
       "<Figure size 432x288 with 1 Axes>"
      ]
     },
     "metadata": {
      "needs_background": "light"
     },
     "output_type": "display_data"
    }
   ],
   "source": [
    "# Lasso Regression\n",
    "\n",
    "from sklearn.metrics import make_scorer\n",
    "from sklearn.metrics import mean_squared_error\n",
    "mse = make_scorer(mean_squared_error)\n",
    "\n",
    "from sklearn.model_selection import GridSearchCV\n",
    "from sklearn.linear_model import Lasso\n",
    "grid = GridSearchCV(estimator = Lasso(), param_grid = {'alpha':[0.01,0.05,0.1,1.0,5.0]}, scoring =mse, cv = 10, return_train_score=True).fit(X_train_preprocessed3, y_train)\n",
    "result = pd.DataFrame(grid.cv_results_)\n",
    "result.head(10)\n",
    "\n",
    "\n",
    "result_filtered2 = result[[\"split0_test_score\",\"split1_test_score\",\"split2_test_score\",\"split3_test_score\",\"split4_test_score\",\"split5_test_score\",\"split6_test_score\",\"split7_test_score\",\"split8_test_score\",\"split9_test_score\"]]\n",
    "result_filtered3_lasso = np.transpose(result_filtered2)\n",
    "result_filtered3_lasso.columns = ['1','2','3','4','5']\n",
    "\n",
    "\n",
    "result_filtered3_lasso.boxplot()\n",
    "plt.title(\"lasso\")\n",
    "plt.ylabel(\"mse\")\n",
    "plt.xlabel(\"alpha\")"
   ]
  },
  {
   "cell_type": "code",
   "execution_count": 31,
   "metadata": {},
   "outputs": [
    {
     "data": {
      "text/html": [
       "<div>\n",
       "<style scoped>\n",
       "    .dataframe tbody tr th:only-of-type {\n",
       "        vertical-align: middle;\n",
       "    }\n",
       "\n",
       "    .dataframe tbody tr th {\n",
       "        vertical-align: top;\n",
       "    }\n",
       "\n",
       "    .dataframe thead th {\n",
       "        text-align: right;\n",
       "    }\n",
       "</style>\n",
       "<table border=\"1\" class=\"dataframe\">\n",
       "  <thead>\n",
       "    <tr style=\"text-align: right;\">\n",
       "      <th></th>\n",
       "      <th>mean_fit_time</th>\n",
       "      <th>std_fit_time</th>\n",
       "      <th>mean_score_time</th>\n",
       "      <th>std_score_time</th>\n",
       "      <th>param_learning_rate</th>\n",
       "      <th>param_n_estimators</th>\n",
       "      <th>param_subsample</th>\n",
       "      <th>params</th>\n",
       "      <th>split0_test_score</th>\n",
       "      <th>split1_test_score</th>\n",
       "      <th>...</th>\n",
       "      <th>split2_train_score</th>\n",
       "      <th>split3_train_score</th>\n",
       "      <th>split4_train_score</th>\n",
       "      <th>split5_train_score</th>\n",
       "      <th>split6_train_score</th>\n",
       "      <th>split7_train_score</th>\n",
       "      <th>split8_train_score</th>\n",
       "      <th>split9_train_score</th>\n",
       "      <th>mean_train_score</th>\n",
       "      <th>std_train_score</th>\n",
       "    </tr>\n",
       "  </thead>\n",
       "  <tbody>\n",
       "    <tr>\n",
       "      <th>0</th>\n",
       "      <td>66.518269</td>\n",
       "      <td>3.232079</td>\n",
       "      <td>0.008272</td>\n",
       "      <td>0.001004</td>\n",
       "      <td>0.2</td>\n",
       "      <td>100</td>\n",
       "      <td>1</td>\n",
       "      <td>{'learning_rate': 0.2, 'n_estimators': 100, 's...</td>\n",
       "      <td>0.411903</td>\n",
       "      <td>0.438369</td>\n",
       "      <td>...</td>\n",
       "      <td>0.33891</td>\n",
       "      <td>0.34181</td>\n",
       "      <td>0.341144</td>\n",
       "      <td>0.33878</td>\n",
       "      <td>0.336653</td>\n",
       "      <td>0.337889</td>\n",
       "      <td>0.339837</td>\n",
       "      <td>0.33837</td>\n",
       "      <td>0.339443</td>\n",
       "      <td>0.001669</td>\n",
       "    </tr>\n",
       "  </tbody>\n",
       "</table>\n",
       "<p>1 rows × 33 columns</p>\n",
       "</div>"
      ],
      "text/plain": [
       "   mean_fit_time  std_fit_time  mean_score_time  std_score_time  \\\n",
       "0      66.518269      3.232079         0.008272        0.001004   \n",
       "\n",
       "  param_learning_rate param_n_estimators param_subsample  \\\n",
       "0                 0.2                100               1   \n",
       "\n",
       "                                              params  split0_test_score  \\\n",
       "0  {'learning_rate': 0.2, 'n_estimators': 100, 's...           0.411903   \n",
       "\n",
       "   split1_test_score       ...         split2_train_score  split3_train_score  \\\n",
       "0           0.438369       ...                    0.33891             0.34181   \n",
       "\n",
       "   split4_train_score  split5_train_score  split6_train_score  \\\n",
       "0            0.341144             0.33878            0.336653   \n",
       "\n",
       "   split7_train_score  split8_train_score  split9_train_score  \\\n",
       "0            0.337889            0.339837             0.33837   \n",
       "\n",
       "   mean_train_score  std_train_score  \n",
       "0          0.339443         0.001669  \n",
       "\n",
       "[1 rows x 33 columns]"
      ]
     },
     "execution_count": 31,
     "metadata": {},
     "output_type": "execute_result"
    }
   ],
   "source": [
    "# Gardient Boosting Regression\n",
    "\n",
    "from sklearn.metrics import make_scorer\n",
    "from sklearn.metrics import mean_squared_error\n",
    "mse = make_scorer(mean_squared_error)\n",
    "\n",
    "from sklearn.model_selection import GridSearchCV\n",
    "from sklearn.ensemble import GradientBoostingRegressor\n",
    "grid = GridSearchCV(estimator = GradientBoostingRegressor(), param_grid = {'learning_rate':[0.2],'n_estimators':[100],'subsample':[1.0]}, scoring =mse, cv = 10, return_train_score=True).fit(X_train_preprocessed3, y_train)\n",
    "result = pd.DataFrame(grid.cv_results_)\n",
    "result.head(10)"
   ]
  },
  {
   "cell_type": "code",
   "execution_count": 33,
   "metadata": {},
   "outputs": [],
   "source": [
    "result_filtered2 = result[[\"split0_test_score\",\"split1_test_score\",\"split2_test_score\",\"split3_test_score\",\"split4_test_score\",\"split5_test_score\",\"split6_test_score\",\"split7_test_score\",\"split8_test_score\",\"split9_test_score\"]]\n",
    "result_filtered3_gb = np.transpose(result_filtered2)\n",
    "result_filtered3_gb.columns = ['1']\n",
    "# result_filtered3_gb.columns = ['1','2','3','4','5','6','7','8','9','10','11','12','13','14','15','16','17','18','19','20','21','22','23','24','25','26','27']"
   ]
  },
  {
   "cell_type": "code",
   "execution_count": 34,
   "metadata": {},
   "outputs": [
    {
     "data": {
      "text/html": [
       "<div>\n",
       "<style scoped>\n",
       "    .dataframe tbody tr th:only-of-type {\n",
       "        vertical-align: middle;\n",
       "    }\n",
       "\n",
       "    .dataframe tbody tr th {\n",
       "        vertical-align: top;\n",
       "    }\n",
       "\n",
       "    .dataframe thead th {\n",
       "        text-align: right;\n",
       "    }\n",
       "</style>\n",
       "<table border=\"1\" class=\"dataframe\">\n",
       "  <thead>\n",
       "    <tr style=\"text-align: right;\">\n",
       "      <th></th>\n",
       "      <th>1</th>\n",
       "    </tr>\n",
       "  </thead>\n",
       "  <tbody>\n",
       "    <tr>\n",
       "      <th>split0_test_score</th>\n",
       "      <td>0.411903</td>\n",
       "    </tr>\n",
       "    <tr>\n",
       "      <th>split1_test_score</th>\n",
       "      <td>0.438369</td>\n",
       "    </tr>\n",
       "    <tr>\n",
       "      <th>split2_test_score</th>\n",
       "      <td>0.449746</td>\n",
       "    </tr>\n",
       "    <tr>\n",
       "      <th>split3_test_score</th>\n",
       "      <td>0.428680</td>\n",
       "    </tr>\n",
       "    <tr>\n",
       "      <th>split4_test_score</th>\n",
       "      <td>0.444952</td>\n",
       "    </tr>\n",
       "    <tr>\n",
       "      <th>split5_test_score</th>\n",
       "      <td>0.447036</td>\n",
       "    </tr>\n",
       "    <tr>\n",
       "      <th>split6_test_score</th>\n",
       "      <td>0.499885</td>\n",
       "    </tr>\n",
       "    <tr>\n",
       "      <th>split7_test_score</th>\n",
       "      <td>0.505584</td>\n",
       "    </tr>\n",
       "    <tr>\n",
       "      <th>split8_test_score</th>\n",
       "      <td>0.459350</td>\n",
       "    </tr>\n",
       "    <tr>\n",
       "      <th>split9_test_score</th>\n",
       "      <td>0.481128</td>\n",
       "    </tr>\n",
       "  </tbody>\n",
       "</table>\n",
       "</div>"
      ],
      "text/plain": [
       "                          1\n",
       "split0_test_score  0.411903\n",
       "split1_test_score  0.438369\n",
       "split2_test_score  0.449746\n",
       "split3_test_score  0.428680\n",
       "split4_test_score  0.444952\n",
       "split5_test_score  0.447036\n",
       "split6_test_score  0.499885\n",
       "split7_test_score  0.505584\n",
       "split8_test_score  0.459350\n",
       "split9_test_score  0.481128"
      ]
     },
     "execution_count": 34,
     "metadata": {},
     "output_type": "execute_result"
    }
   ],
   "source": [
    "result_filtered3_gb"
   ]
  },
  {
   "cell_type": "code",
   "execution_count": 36,
   "metadata": {},
   "outputs": [
    {
     "data": {
      "text/plain": [
       "Text(0.5, 0, 'alpha')"
      ]
     },
     "execution_count": 36,
     "metadata": {},
     "output_type": "execute_result"
    },
    {
     "data": {
      "image/png": "[encoded data removed]",
      "text/plain": [
       "<Figure size 432x288 with 1 Axes>"
      ]
     },
     "metadata": {
      "needs_background": "light"
     },
     "output_type": "display_data"
    }
   ],
   "source": [
    "result_filtered3_gb.boxplot()\n",
    "plt.title(\"gardient boosting\")\n",
    "plt.ylabel(\"mse\")\n",
    "plt.xlabel(\"alpha\")"
   ]
  },
  {
   "cell_type": "code",
   "execution_count": 39,
   "metadata": {},
   "outputs": [
    {
     "data": {
      "text/html": [
       "<div>\n",
       "<style scoped>\n",
       "    .dataframe tbody tr th:only-of-type {\n",
       "        vertical-align: middle;\n",
       "    }\n",
       "\n",
       "    .dataframe tbody tr th {\n",
       "        vertical-align: top;\n",
       "    }\n",
       "\n",
       "    .dataframe thead th {\n",
       "        text-align: right;\n",
       "    }\n",
       "</style>\n",
       "<table border=\"1\" class=\"dataframe\">\n",
       "  <thead>\n",
       "    <tr style=\"text-align: right;\">\n",
       "      <th></th>\n",
       "      <th>ridge</th>\n",
       "      <th>lasso</th>\n",
       "      <th>gb</th>\n",
       "    </tr>\n",
       "  </thead>\n",
       "  <tbody>\n",
       "    <tr>\n",
       "      <th>split0_test_score</th>\n",
       "      <td>0.574048</td>\n",
       "      <td>0.651435</td>\n",
       "      <td>0.411903</td>\n",
       "    </tr>\n",
       "    <tr>\n",
       "      <th>split1_test_score</th>\n",
       "      <td>0.577808</td>\n",
       "      <td>0.689355</td>\n",
       "      <td>0.438369</td>\n",
       "    </tr>\n",
       "    <tr>\n",
       "      <th>split2_test_score</th>\n",
       "      <td>0.547283</td>\n",
       "      <td>0.678977</td>\n",
       "      <td>0.449746</td>\n",
       "    </tr>\n",
       "    <tr>\n",
       "      <th>split3_test_score</th>\n",
       "      <td>0.587035</td>\n",
       "      <td>0.635946</td>\n",
       "      <td>0.428680</td>\n",
       "    </tr>\n",
       "    <tr>\n",
       "      <th>split4_test_score</th>\n",
       "      <td>0.578150</td>\n",
       "      <td>0.662389</td>\n",
       "      <td>0.444952</td>\n",
       "    </tr>\n",
       "    <tr>\n",
       "      <th>split5_test_score</th>\n",
       "      <td>0.560286</td>\n",
       "      <td>0.633740</td>\n",
       "      <td>0.447036</td>\n",
       "    </tr>\n",
       "    <tr>\n",
       "      <th>split6_test_score</th>\n",
       "      <td>0.675874</td>\n",
       "      <td>0.800388</td>\n",
       "      <td>0.499885</td>\n",
       "    </tr>\n",
       "    <tr>\n",
       "      <th>split7_test_score</th>\n",
       "      <td>0.694660</td>\n",
       "      <td>0.815620</td>\n",
       "      <td>0.505584</td>\n",
       "    </tr>\n",
       "    <tr>\n",
       "      <th>split8_test_score</th>\n",
       "      <td>0.614010</td>\n",
       "      <td>0.730137</td>\n",
       "      <td>0.459350</td>\n",
       "    </tr>\n",
       "    <tr>\n",
       "      <th>split9_test_score</th>\n",
       "      <td>0.657554</td>\n",
       "      <td>0.790939</td>\n",
       "      <td>0.481128</td>\n",
       "    </tr>\n",
       "  </tbody>\n",
       "</table>\n",
       "</div>"
      ],
      "text/plain": [
       "                      ridge     lasso        gb\n",
       "split0_test_score  0.574048  0.651435  0.411903\n",
       "split1_test_score  0.577808  0.689355  0.438369\n",
       "split2_test_score  0.547283  0.678977  0.449746\n",
       "split3_test_score  0.587035  0.635946  0.428680\n",
       "split4_test_score  0.578150  0.662389  0.444952\n",
       "split5_test_score  0.560286  0.633740  0.447036\n",
       "split6_test_score  0.675874  0.800388  0.499885\n",
       "split7_test_score  0.694660  0.815620  0.505584\n",
       "split8_test_score  0.614010  0.730137  0.459350\n",
       "split9_test_score  0.657554  0.790939  0.481128"
      ]
     },
     "execution_count": 39,
     "metadata": {},
     "output_type": "execute_result"
    }
   ],
   "source": [
    "# Third Visualization\n",
    "# Comapring the 10CV performance of three regressor's optimal hyperparameters\n",
    "\n",
    "# Ridge: param_alpha = 5.0\n",
    "# Lasso: param_alpha = 0.01\n",
    "# Gardient Boosting: param_learning_rate = 0.2  param_n_estimators = 100  param_subsample = 1\n",
    "\n",
    "ridgecv = result_filtered3_ridge['5']\n",
    "lassocv = result_filtered3_lasso['1']\n",
    "gbcv = result_filtered3_gb['1']\n",
    "\n",
    "vis3 = pd.concat([ridgecv, lassocv,gbcv], axis=1, join='inner')\n",
    "vis3.columns = ['ridge','lasso','gb']\n",
    "vis3"
   ]
  },
  {
   "cell_type": "code",
   "execution_count": 41,
   "metadata": {},
   "outputs": [
    {
     "data": {
      "text/plain": [
       "Text(0.5, 0, 'regressor')"
      ]
     },
     "execution_count": 41,
     "metadata": {},
     "output_type": "execute_result"
    },
    {
     "data": {
      "image/png": "[encoded data removed]",
      "text/plain": [
       "<Figure size 432x288 with 1 Axes>"
      ]
     },
     "metadata": {
      "needs_background": "light"
     },
     "output_type": "display_data"
    }
   ],
   "source": [
    "vis3.boxplot()\n",
    "plt.title(\"ridge vs lasso vc gb\")\n",
    "plt.ylabel(\"mse\")\n",
    "plt.xlabel(\"regressor\")"
   ]
  },
  {
   "cell_type": "markdown",
   "metadata": {},
   "source": [
    "In the third visualization,..."
   ]
  },
  {
   "cell_type": "markdown",
   "metadata": {},
   "source": [
    "## 4 Test with best result"
   ]
  },
  {
   "cell_type": "code",
   "execution_count": 76,
   "metadata": {},
   "outputs": [
    {
     "data": {
      "text/plain": [
       "GradientBoostingRegressor(alpha=0.9, criterion='friedman_mse', init=None,\n",
       "             learning_rate=0.2, loss='ls', max_depth=3, max_features=None,\n",
       "             max_leaf_nodes=None, min_impurity_decrease=0.0,\n",
       "             min_impurity_split=None, min_samples_leaf=1,\n",
       "             min_samples_split=2, min_weight_fraction_leaf=0.0,\n",
       "             n_estimators=100, n_iter_no_change=None, presort='auto',\n",
       "             random_state=None, subsample=1, tol=0.0001,\n",
       "             validation_fraction=0.1, verbose=0, warm_start=False)"
      ]
     },
     "execution_count": 76,
     "metadata": {},
     "output_type": "execute_result"
    }
   ],
   "source": [
    "# Best model: gradient boosting regressiong with learning rate = 0.2, n_estimators = 100, subsample = 1\n",
    "\n",
    "best = GradientBoostingRegressor(learning_rate = 0.2,n_estimators = 100,subsample = 1)\n",
    "best.fit( X_test_preprocessed3, y_test)"
   ]
  },
  {
   "cell_type": "code",
   "execution_count": 77,
   "metadata": {},
   "outputs": [],
   "source": [
    "feat_importance = pd.Series(best.feature_importances_, index = X_test_preprocessed2.columns)\n",
    "top_10 = feat_importance.nlargest(10)"
   ]
  },
  {
   "cell_type": "code",
   "execution_count": 78,
   "metadata": {},
   "outputs": [
    {
     "data": {
      "text/plain": [
       "price                            0.467348\n",
       "1                                0.069540\n",
       "2                                0.049653\n",
       "7                                0.047167\n",
       "9                                0.045126\n",
       "4                                0.033433\n",
       "5                                0.021946\n",
       "taster_name_Michael Schachner    0.021843\n",
       "6                                0.016758\n",
       "0                                0.016242\n",
       "dtype: float64"
      ]
     },
     "execution_count": 78,
     "metadata": {},
     "output_type": "execute_result"
    }
   ],
   "source": [
    "top_10"
   ]
  },
  {
   "cell_type": "code",
   "execution_count": 79,
   "metadata": {},
   "outputs": [
    {
     "data": {
      "text/plain": [
       "<BarContainer object of 10 artists>"
      ]
     },
     "execution_count": 79,
     "metadata": {},
     "output_type": "execute_result"
    },
    {
     "data": {
      "image/png": "[encoded data removed]",
      "text/plain": [
       "<Figure size 432x288 with 1 Axes>"
      ]
     },
     "metadata": {
      "needs_background": "light"
     },
     "output_type": "display_data"
    }
   ],
   "source": [
    "top_10_index = [\"price\",\"topic 1\",\"topic 7\",\"topic 9\",\"topic 2\",\"topic 4\",\"topic 5\",\"taster name: Michael Schachner\",\"topic 6\",\"topic 0\"]\n",
    "plt.bar(top_10_index,top_10.values)"
   ]
  },
  {
   "cell_type": "markdown",
   "metadata": {},
   "source": [
    "In the fourth visualization,..."
   ]
  },
  {
   "cell_type": "code",
   "execution_count": null,
   "metadata": {},
   "outputs": [],
   "source": []
  }
 ],
 "metadata": {
  "kernelspec": {
   "display_name": "Python 3",
   "language": "python",
   "name": "python3"
  },
  "language_info": {
   "codemirror_mode": {
    "name": "ipython",
    "version": 3
   },
   "file_extension": ".py",
   "mimetype": "text/x-python",
   "name": "python",
   "nbconvert_exporter": "python",
   "pygments_lexer": "ipython3",
   "version": "3.7.0"
  }
 },
 "nbformat": 4,
 "nbformat_minor": 2
}
