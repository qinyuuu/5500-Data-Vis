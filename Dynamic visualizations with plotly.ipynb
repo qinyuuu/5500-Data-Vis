{
 "cells": [
  {
   "cell_type": "markdown",
   "metadata": {},
   "source": [
    "# Dynamic Visualizations with Plotly  \n",
    "## Qinyu Chen"
   ]
  },
  {
   "cell_type": "code",
   "execution_count": 8,
   "metadata": {},
   "outputs": [],
   "source": [
    "# setting\n",
    "import plotly.plotly as py\n",
    "import plotly.graph_objs as go\n",
    "plotly.tools.set_credentials_file(username='crowwwww56', api_key='uZl6muzM8nEjWEtaub9h')\n",
    "import pandas as pd\n",
    "import numpy as np"
   ]
  },
  {
   "cell_type": "markdown",
   "metadata": {},
   "source": [
    "### 1. Label the 7 columns in the dataset as key or value"
   ]
  },
  {
   "cell_type": "code",
   "execution_count": 64,
   "metadata": {},
   "outputs": [
    {
     "data": {
      "text/html": [
       "<div>\n",
       "<style scoped>\n",
       "    .dataframe tbody tr th:only-of-type {\n",
       "        vertical-align: middle;\n",
       "    }\n",
       "\n",
       "    .dataframe tbody tr th {\n",
       "        vertical-align: top;\n",
       "    }\n",
       "\n",
       "    .dataframe thead th {\n",
       "        text-align: right;\n",
       "    }\n",
       "</style>\n",
       "<table border=\"1\" class=\"dataframe\">\n",
       "  <thead>\n",
       "    <tr style=\"text-align: right;\">\n",
       "      <th></th>\n",
       "      <th>date</th>\n",
       "      <th>symbol</th>\n",
       "      <th>open</th>\n",
       "      <th>close</th>\n",
       "      <th>low</th>\n",
       "      <th>high</th>\n",
       "      <th>volume</th>\n",
       "    </tr>\n",
       "  </thead>\n",
       "  <tbody>\n",
       "    <tr>\n",
       "      <th>0</th>\n",
       "      <td>2016-01-05 00:00:00</td>\n",
       "      <td>WLTW</td>\n",
       "      <td>123.430000</td>\n",
       "      <td>125.839996</td>\n",
       "      <td>122.309998</td>\n",
       "      <td>126.250000</td>\n",
       "      <td>2163600.0</td>\n",
       "    </tr>\n",
       "    <tr>\n",
       "      <th>1</th>\n",
       "      <td>2016-01-06 00:00:00</td>\n",
       "      <td>WLTW</td>\n",
       "      <td>125.239998</td>\n",
       "      <td>119.980003</td>\n",
       "      <td>119.940002</td>\n",
       "      <td>125.540001</td>\n",
       "      <td>2386400.0</td>\n",
       "    </tr>\n",
       "    <tr>\n",
       "      <th>2</th>\n",
       "      <td>2016-01-07 00:00:00</td>\n",
       "      <td>WLTW</td>\n",
       "      <td>116.379997</td>\n",
       "      <td>114.949997</td>\n",
       "      <td>114.930000</td>\n",
       "      <td>119.739998</td>\n",
       "      <td>2489500.0</td>\n",
       "    </tr>\n",
       "    <tr>\n",
       "      <th>3</th>\n",
       "      <td>2016-01-08 00:00:00</td>\n",
       "      <td>WLTW</td>\n",
       "      <td>115.480003</td>\n",
       "      <td>116.620003</td>\n",
       "      <td>113.500000</td>\n",
       "      <td>117.440002</td>\n",
       "      <td>2006300.0</td>\n",
       "    </tr>\n",
       "    <tr>\n",
       "      <th>4</th>\n",
       "      <td>2016-01-11 00:00:00</td>\n",
       "      <td>WLTW</td>\n",
       "      <td>117.010002</td>\n",
       "      <td>114.970001</td>\n",
       "      <td>114.089996</td>\n",
       "      <td>117.330002</td>\n",
       "      <td>1408600.0</td>\n",
       "    </tr>\n",
       "  </tbody>\n",
       "</table>\n",
       "</div>"
      ],
      "text/plain": [
       "                  date symbol        open       close         low        high  \\\n",
       "0  2016-01-05 00:00:00   WLTW  123.430000  125.839996  122.309998  126.250000   \n",
       "1  2016-01-06 00:00:00   WLTW  125.239998  119.980003  119.940002  125.540001   \n",
       "2  2016-01-07 00:00:00   WLTW  116.379997  114.949997  114.930000  119.739998   \n",
       "3  2016-01-08 00:00:00   WLTW  115.480003  116.620003  113.500000  117.440002   \n",
       "4  2016-01-11 00:00:00   WLTW  117.010002  114.970001  114.089996  117.330002   \n",
       "\n",
       "      volume  \n",
       "0  2163600.0  \n",
       "1  2386400.0  \n",
       "2  2489500.0  \n",
       "3  2006300.0  \n",
       "4  1408600.0  "
      ]
     },
     "execution_count": 64,
     "metadata": {},
     "output_type": "execute_result"
    }
   ],
   "source": [
    "# load dataset\n",
    "prices = pd.read_csv(\"prices.csv\")\n",
    "prices.head()"
   ]
  },
  {
   "cell_type": "code",
   "execution_count": 129,
   "metadata": {},
   "outputs": [
    {
     "data": {
      "text/plain": [
       "(851264, 7)"
      ]
     },
     "execution_count": 129,
     "metadata": {},
     "output_type": "execute_result"
    }
   ],
   "source": [
    "prices.shape"
   ]
  },
  {
   "cell_type": "code",
   "execution_count": 136,
   "metadata": {},
   "outputs": [
    {
     "name": "stdout",
     "output_type": "stream",
     "text": [
      "3524\n",
      "501\n",
      "72707\n",
      "73628\n",
      "72900\n",
      "73299\n",
      "171073\n"
     ]
    }
   ],
   "source": [
    "print(len(prices['date'].unique()))\n",
    "print(len(prices['symbol'].unique()))\n",
    "print(len(prices['open'].unique()))\n",
    "print(len(prices['close'].unique()))\n",
    "print(len(prices['low'].unique()))\n",
    "print(len(prices['high'].unique()))\n",
    "print(len(prices['volume'].unique()))"
   ]
  },
  {
   "cell_type": "markdown",
   "metadata": {},
   "source": [
    "After checking the uniqueness of columns, it turns out that none of the columns is unique. According to VAD page 59, this table is a simple flat table where each item corresponds to a row in the table. The key is completely implicit. It's the index of the row. Columns 'date','symbol','open', 'close', 'low','high' and 'volume' are all value."
   ]
  },
  {
   "cell_type": "markdown",
   "metadata": {},
   "source": [
    "### 2. Come up with a task a user might be interested in performing with this dataset"
   ]
  },
  {
   "cell_type": "markdown",
   "metadata": {},
   "source": [
    "User: Cheryl has been offered three jobs from big technology companies: Google, Apple, and Microsoft. She wants to work in a company that is on the growing. She suggests that we can look at the stock close price trend to determine which company is arising.  \n",
    "\n",
    "Actions that define user goal: At high-level, Cheryl wants to discover the stock close price evolution trends of these companies. At mid-level, Cheryl wants to look up the detailed stock close prices. At lower-level, Cheryl wants to compare which trend seems the best.  \n",
    "\n",
    "Task abstraction: Compare three companies' stock close price evolution trends."
   ]
  },
  {
   "cell_type": "markdown",
   "metadata": {},
   "source": [
    "### 3. Visualization1"
   ]
  },
  {
   "cell_type": "code",
   "execution_count": 74,
   "metadata": {},
   "outputs": [],
   "source": [
    "# preprare data for plotting\n",
    "google = prices[prices['symbol']=='GOOGL']\n",
    "apple = prices[prices['symbol']=='AAPL']\n",
    "microsoft = prices[prices['symbol']=='MSFT']"
   ]
  },
  {
   "cell_type": "code",
   "execution_count": 127,
   "metadata": {
    "scrolled": false
   },
   "outputs": [
    {
     "data": {
      "text/html": [
       "<iframe id=\"igraph\" scrolling=\"no\" style=\"border:none;\" seamless=\"seamless\" src=\"https://plot.ly/~crowwwww56/24.embed\" height=\"525px\" width=\"100%\"></iframe>"
      ],
      "text/plain": [
       "<plotly.tools.PlotlyDisplay object>"
      ]
     },
     "execution_count": 127,
     "metadata": {},
     "output_type": "execute_result"
    }
   ],
   "source": [
    "# close-only line chart\n",
    "trace_google = go.Scatter(\n",
    "    x=google.date,\n",
    "    y=google.close,\n",
    "    name = \"Google Close Price\",\n",
    "    line = dict(color = '#1ecbba'),\n",
    "    opacity = 1)\n",
    "\n",
    "trace_apple = go.Scatter(\n",
    "    x=apple.date,\n",
    "    y=apple.close,\n",
    "    name = \"Apple Close Price\",\n",
    "    line = dict(color = '#f0a616'),\n",
    "    opacity = 1)\n",
    "\n",
    "trace_microsoft = go.Scatter(\n",
    "    x=microsoft.date,\n",
    "    y=microsoft.close,\n",
    "    name = \"Microsoft Close Price\",\n",
    "    line = dict(color = '#e45a42'),\n",
    "    opacity = 1)\n",
    "\n",
    "data = [trace_google,trace_apple,trace_microsoft]\n",
    "\n",
    "updatemenus = list([\n",
    "    dict(type=\"buttons\",\n",
    "         active=-1,\n",
    "         buttons=list([\n",
    "            dict(label = 'All',\n",
    "                 method = 'update',\n",
    "                 args = [{'visible': [True, True, True]},\n",
    "                         {'title': 'Stock close price from 2010 to 2016'}]),\n",
    "            dict(label = 'Google',\n",
    "                 method = 'update',\n",
    "                 args = [{'visible': [True, False, False]},\n",
    "                         {'title': 'Google stock close price from 2010 to 2016'}]),\n",
    "            dict(label = 'Apple',\n",
    "                 method = 'update',\n",
    "                 args = [{'visible': [False, True, False]},\n",
    "                         {'title': 'Apple stock close price from 2010 to 2016'}]),\n",
    "            dict(label = 'Microsoft',\n",
    "                 method = 'update',\n",
    "                 args = [{'visible': [False, False, True]},\n",
    "                         {'title': 'Microsoft stock close price from 2010 to 2016'}])\n",
    "        ]),\n",
    "    )\n",
    "])\n",
    "\n",
    "layout = dict(\n",
    "    title='Stock close price from 2010 to 2016', \n",
    "    updatemenus=updatemenus,\n",
    "#    xaxis=dict(\n",
    "#       rangeslider=dict(\n",
    "#            visible = True\n",
    "#        ),\n",
    "#       type='date'\n",
    "#   )\n",
    ")\n",
    "\n",
    "fig = dict(data=data, layout=layout)\n",
    "py.iplot(fig, filename = \"Stock close price from 2010 to 2016\")"
   ]
  },
  {
   "cell_type": "markdown",
   "metadata": {},
   "source": [
    "a. For this visualization, I use lines as marks to encode the trend, which is pretty clear when it comes to time series data. I use color as channels to encode the different three companies. According to the VAD page 249, 'For small regions, designers should use bright, highly saturated colors to ensure that the color coding is distinguishable.' So I choose three colors with high saturation. Also since the company name is a categorical datatype, so I use colors that are clearly separated, that is red, yellow and blue.  \n",
    "\n",
    "b. The plot is showing that basically, Google's stock close price is higher than Apple's. And Apple's is higher than Microsoft. For Google and Appel, there seems to be a huge decrease in stock close price in 2014. Since that, Google has the highest increase rate. \n",
    "\n",
    "c. The first interaction is that when hovering on the graph, the user can see the specific number in the trends. This interaction makes the graph more readable. Second interaction is that there is a navigation on the left side of the graph, which navigates user from comparison graph to the detailed graph of each company. Third interaction is user can zoom in and zoom out the graph use '+' and '-' buttons on the top right so that they can see what happened during a more or less detailed period. "
   ]
  },
  {
   "cell_type": "markdown",
   "metadata": {},
   "source": [
    "### 4. Visualization2"
   ]
  },
  {
   "cell_type": "code",
   "execution_count": null,
   "metadata": {},
   "outputs": [],
   "source": [
    "# prepare data for plotting\n",
    "google = prices[prices['symbol']=='GOOGL']\n",
    "apple = prices[prices['symbol']=='AAPL']\n",
    "microsoft = prices[prices['symbol']=='MSFT']"
   ]
  },
  {
   "cell_type": "code",
   "execution_count": 137,
   "metadata": {
    "scrolled": false
   },
   "outputs": [
    {
     "data": {
      "text/html": [
       "<iframe id=\"igraph\" scrolling=\"no\" style=\"border:none;\" seamless=\"seamless\" src=\"https://plot.ly/~crowwwww56/24.embed\" height=\"525px\" width=\"100%\"></iframe>"
      ],
      "text/plain": [
       "<plotly.tools.PlotlyDisplay object>"
      ]
     },
     "execution_count": 137,
     "metadata": {},
     "output_type": "execute_result"
    }
   ],
   "source": [
    "# close-only stacked area chart\n",
    "trace_google = dict(\n",
    "    x=google.date,\n",
    "    y=google.close,\n",
    "    hoverinfo='x+y',\n",
    "    mode='lines',\n",
    "    name = \"Google Close Price\",\n",
    "    line=dict(width=1,\n",
    "              color='#3CAEA3'),\n",
    "    stackgroup='one'\n",
    ")\n",
    "trace_apple = dict(\n",
    "    x=apple.date,\n",
    "    y=apple.close,\n",
    "    hoverinfo='x+y',\n",
    "    mode='lines',\n",
    "    name = \"Apple Close Price\",\n",
    "    line=dict(width=1,\n",
    "              color='#446cdf'),\n",
    "    stackgroup='one'\n",
    ")\n",
    "trace_microsoft = dict(\n",
    "    x=microsoft.date,\n",
    "    y=microsoft.close,\n",
    "    hoverinfo='x+y',\n",
    "    mode='lines',\n",
    "    name = \"Microsoft Close Price\",\n",
    "    line=dict(width=1,\n",
    "              color='#dd78cd'),\n",
    "    stackgroup='one'\n",
    ")\n",
    "\n",
    "data = [trace_google, trace_apple, trace_microsoft]\n",
    "\n",
    "updatemenus = list([\n",
    "    dict(type=\"buttons\",\n",
    "         active=-1,\n",
    "         buttons=list([\n",
    "            dict(label = 'All',\n",
    "                 method = 'update',\n",
    "                 args = [{'visible': [True,True, True]},\n",
    "                         {'title': 'Stock close price from 2010 to 2016'}]),\n",
    "            dict(label = 'Google',\n",
    "                 method = 'update',\n",
    "                 args = [{'visible': [True, False, False]},\n",
    "                         {'title': 'Google stock close price from 2010 to 2016'}]),\n",
    "            dict(label = 'Apple',\n",
    "                 method = 'update',\n",
    "                 args = [{'visible': [False, True, False]},\n",
    "                         {'title': 'Apple stock close price from 2010 to 2016'}]),\n",
    "            dict(label = 'Microsoft',\n",
    "                 method = 'update',\n",
    "                 args = [{'visible': [False, False, True]},\n",
    "                         {'title': 'Microsoft stock close price from 2010 to 2016'}])\n",
    "        ]),\n",
    "    )\n",
    "])\n",
    "\n",
    "layout = dict(\n",
    "    title='Stock close price from 2010 to 2016', \n",
    "    updatemenus=updatemenus,\n",
    "#    xaxis=dict(\n",
    "#        rangeslider=dict(\n",
    "#            visible = True\n",
    "#        ),\n",
    "#        type='date'\n",
    "#    )\n",
    ")\n",
    "\n",
    "fig = dict(data=data,layout=layout)\n",
    "py.iplot(fig, filename='Stock close price from 2010 to 2016', validate=False)"
   ]
  },
  {
   "cell_type": "markdown",
   "metadata": {},
   "source": [
    "a. For this visualization, I use area as marks to encode the price trend, and stacked the area so that it can be useful for comparing multiple variables changing over an interval. I use color as channels to encode the different three companies. According to the VAD page 249, 'When colored regions are large, as in backgrounds, the design guidelineis the opposite: use low-saturation colors; that is, pastels.' So I choose three colors with low saturation. Also since the company name is a categorical datatype, so I use colors that are clearly separated, that is pink, blue and green.  \n",
    "\n",
    "b. The plot is showing that Google's stock close price is higher than Apple's and Apple's is higher than Microsoft.\n",
    "\n",
    "c. The first interaction is that when hovering on the graph, the user can see the specific number in the trends. This interaction makes the graph more readable. Second interaction is that there is a navigation on the left side of the graph, which navigates user from comparison graph to the detailed graph of each company. Third interaction is user can zoom in and zoom out the graph use '+' and '-' buttons on the top right so that they can see what happened during a more or less detailed period. "
   ]
  }
 ],
 "metadata": {
  "kernelspec": {
   "display_name": "Python 3",
   "language": "python",
   "name": "python3"
  },
  "language_info": {
   "codemirror_mode": {
    "name": "ipython",
    "version": 3
   },
   "file_extension": ".py",
   "mimetype": "text/x-python",
   "name": "python",
   "nbconvert_exporter": "python",
   "pygments_lexer": "ipython3",
   "version": "3.7.0"
  }
 },
 "nbformat": 4,
 "nbformat_minor": 2
}
